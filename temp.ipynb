{
 "cells": [
  {
   "cell_type": "code",
   "execution_count": 1,
   "metadata": {},
   "outputs": [
    {
     "name": "stdout",
     "output_type": "stream",
     "text": [
      "tensor([[19, 22],\n",
      "        [43, 50]])\n"
     ]
    }
   ],
   "source": [
    "import torch\n",
    "\n",
    "A = torch.tensor([[1, 2], [3, 4]])\n",
    "B = torch.tensor([[5, 6], [7, 8]])\n",
    "\n",
    "# Matrix multiplication using einsum\n",
    "C = torch.einsum('ij,jk->ik', A, B)\n",
    "\n",
    "print(C)"
   ]
  },
  {
   "cell_type": "code",
   "execution_count": 2,
   "metadata": {},
   "outputs": [
    {
     "name": "stdout",
     "output_type": "stream",
     "text": [
      "tensor([[1, 2],\n",
      "        [3, 4]])\n",
      "tensor([[5, 6],\n",
      "        [7, 8]])\n"
     ]
    }
   ],
   "source": [
    "print(A)\n",
    "print(B)"
   ]
  },
  {
   "cell_type": "code",
   "execution_count": 3,
   "metadata": {},
   "outputs": [
    {
     "name": "stdout",
     "output_type": "stream",
     "text": [
      "tensor([[19, 22],\n",
      "        [43, 50]])\n"
     ]
    }
   ],
   "source": [
    "print(torch.matmul(A,B))"
   ]
  },
  {
   "cell_type": "code",
   "execution_count": 4,
   "metadata": {},
   "outputs": [
    {
     "name": "stdout",
     "output_type": "stream",
     "text": [
      "First Tensor (ij):\n",
      "tensor([[1, 2],\n",
      "        [3, 4]])\n",
      "\n",
      "Second Tensor (hwj):\n",
      "tensor([[[1, 2],\n",
      "         [3, 4]],\n",
      "\n",
      "        [[5, 6],\n",
      "         [7, 8]]])\n",
      "\n",
      "Result of Batched Matrix Multiplication (hwi):\n",
      "tensor([[[ 5, 11],\n",
      "         [11, 25]],\n",
      "\n",
      "        [[17, 39],\n",
      "         [23, 53]]])\n"
     ]
    }
   ],
   "source": [
    "import torch\n",
    "\n",
    "# Define input tensors\n",
    "ij = torch.tensor([[1, 2], [3, 4]])  # Shape: (2, 2)\n",
    "hwj = torch.tensor([[[1, 2], [3, 4]], [[5, 6], [7, 8]]])  # Shape: (2, 2, 2)\n",
    "\n",
    "# Perform batched matrix multiplication using torch.einsum()\n",
    "hwi = torch.einsum('ij,hwj->hwi', ij, hwj)\n",
    "\n",
    "print(\"First Tensor (ij):\")\n",
    "print(ij)\n",
    "print(\"\\nSecond Tensor (hwj):\")\n",
    "print(hwj)\n",
    "print(\"\\nResult of Batched Matrix Multiplication (hwi):\")\n",
    "print(hwi)\n"
   ]
  },
  {
   "cell_type": "code",
   "execution_count": null,
   "metadata": {},
   "outputs": [],
   "source": []
  }
 ],
 "metadata": {
  "kernelspec": {
   "display_name": "Python 3",
   "language": "python",
   "name": "python3"
  },
  "language_info": {
   "codemirror_mode": {
    "name": "ipython",
    "version": 3
   },
   "file_extension": ".py",
   "mimetype": "text/x-python",
   "name": "python",
   "nbconvert_exporter": "python",
   "pygments_lexer": "ipython3",
   "version": "3.8.10"
  }
 },
 "nbformat": 4,
 "nbformat_minor": 2
}
